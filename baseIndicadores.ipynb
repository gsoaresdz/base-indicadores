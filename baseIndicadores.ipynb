{
 "cells": [
  {
   "cell_type": "markdown",
   "metadata": {},
   "source": [
    "# Python e Arquivos do Computador\n",
    "\n",
    "Este projeto utiliza a biblioteca pathlib e shutil para organizar arquivos de lojas por estados em pastas específicas."
   ]
  },
  {
   "cell_type": "markdown",
   "metadata": {},
   "source": [
    "###### Bibliotecas | Módulos"
   ]
  },
  {
   "cell_type": "code",
   "execution_count": 7,
   "metadata": {},
   "outputs": [],
   "source": [
    "from pathlib import Path\n",
    "import shutil"
   ]
  },
  {
   "cell_type": "markdown",
   "metadata": {},
   "source": [
    "###### Criando Pastas para os estados"
   ]
  },
  {
   "cell_type": "code",
   "execution_count": 8,
   "metadata": {},
   "outputs": [],
   "source": [
    "estados = ['RJ', 'SP', 'MG', 'GO', 'AM']\n",
    "\n",
    "for estado in estados:\n",
    "  Path('Arquivos_Lojas/{}'.format(estado)).mkdir()"
   ]
  },
  {
   "cell_type": "markdown",
   "metadata": {},
   "source": [
    "###### Listagem dos arquivos para os indicadores"
   ]
  },
  {
   "cell_type": "code",
   "execution_count": 9,
   "metadata": {},
   "outputs": [],
   "source": [
    "caminho = Path('Arquivos_Lojas/')\n",
    "arquivos = caminho.iterdir()"
   ]
  },
  {
   "cell_type": "markdown",
   "metadata": {},
   "source": [
    "###### Distribuindo os arquivos para os indicadores da pastas respectivas"
   ]
  },
  {
   "cell_type": "code",
   "execution_count": null,
   "metadata": {},
   "outputs": [],
   "source": [
    "for arquivo in arquivos:\n",
    "  nome_arquivo = arquivo.name\n",
    "  if nome_arquivo[-3:] == 'csv':\n",
    "    estado = nome_arquivo[-6:-4]\n",
    "    local_final = caminho / Path('{}/{}'.format(estado, nome_arquivo))\n",
    "    shutil.move(arquivo, local_final)"
   ]
  }
 ],
 "metadata": {
  "kernelspec": {
   "display_name": "Python 3.9.7 ('base')",
   "language": "python",
   "name": "python3"
  },
  "language_info": {
   "codemirror_mode": {
    "name": "ipython",
    "version": 3
   },
   "file_extension": ".py",
   "mimetype": "text/x-python",
   "name": "python",
   "nbconvert_exporter": "python",
   "pygments_lexer": "ipython3",
   "version": "3.9.7"
  },
  "vscode": {
   "interpreter": {
    "hash": "e5882f1a9d2529a8f07f4964a9aa2777d1ad98b2c770a4f48c3438835058b188"
   }
  }
 },
 "nbformat": 4,
 "nbformat_minor": 4
}
